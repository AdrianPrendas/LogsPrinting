{
 "cells": [
  {
   "cell_type": "code",
   "execution_count": 1,
   "metadata": {},
   "outputs": [],
   "source": [
    "import pandas as pd\n",
    "import sys\n",
    "sys.path.append(\"G:\\Carrera\\Ciclo II 2018\\Administracion de Base de datos\\Proyecto\\Trazabilidad de transacciones\\src\")\n",
    "from db_oracle import DB"
   ]
  },
  {
   "cell_type": "code",
   "execution_count": 2,
   "metadata": {},
   "outputs": [],
   "source": [
    "db = DB()"
   ]
  },
  {
   "cell_type": "code",
   "execution_count": 3,
   "metadata": {},
   "outputs": [],
   "source": [
    "dataframe = pd.DataFrame.from_dict(db.exec_dml('''select * from \"USER1\".\"T1\"'''))"
   ]
  },
  {
   "cell_type": "code",
   "execution_count": 4,
   "metadata": {},
   "outputs": [
    {
     "data": {
      "text/html": [
       "<div>\n",
       "<style scoped>\n",
       "    .dataframe tbody tr th:only-of-type {\n",
       "        vertical-align: middle;\n",
       "    }\n",
       "\n",
       "    .dataframe tbody tr th {\n",
       "        vertical-align: top;\n",
       "    }\n",
       "\n",
       "    .dataframe thead th {\n",
       "        text-align: right;\n",
       "    }\n",
       "</style>\n",
       "<table border=\"1\" class=\"dataframe\">\n",
       "  <thead>\n",
       "    <tr style=\"text-align: right;\">\n",
       "      <th></th>\n",
       "      <th>A</th>\n",
       "      <th>B</th>\n",
       "      <th>C</th>\n",
       "    </tr>\n",
       "  </thead>\n",
       "  <tbody>\n",
       "    <tr>\n",
       "      <th>0</th>\n",
       "      <td>1</td>\n",
       "      <td>2</td>\n",
       "      <td>3</td>\n",
       "    </tr>\n",
       "    <tr>\n",
       "      <th>1</th>\n",
       "      <td>2</td>\n",
       "      <td>3</td>\n",
       "      <td>4</td>\n",
       "    </tr>\n",
       "    <tr>\n",
       "      <th>2</th>\n",
       "      <td>3</td>\n",
       "      <td>4</td>\n",
       "      <td>5</td>\n",
       "    </tr>\n",
       "    <tr>\n",
       "      <th>3</th>\n",
       "      <td>4</td>\n",
       "      <td>5</td>\n",
       "      <td>6</td>\n",
       "    </tr>\n",
       "  </tbody>\n",
       "</table>\n",
       "</div>"
      ],
      "text/plain": [
       "   A  B  C\n",
       "0  1  2  3\n",
       "1  2  3  4\n",
       "2  3  4  5\n",
       "3  4  5  6"
      ]
     },
     "execution_count": 4,
     "metadata": {},
     "output_type": "execute_result"
    }
   ],
   "source": [
    "dataframe"
   ]
  },
  {
   "cell_type": "code",
   "execution_count": 21,
   "metadata": {},
   "outputs": [],
   "source": [
    "data = pd.DataFrame.from_dict(db.exec_dml('''select * from logminerFiltered'''))"
   ]
  },
  {
   "cell_type": "code",
   "execution_count": 22,
   "metadata": {},
   "outputs": [
    {
     "data": {
      "text/html": [
       "<div>\n",
       "<style scoped>\n",
       "    .dataframe tbody tr th:only-of-type {\n",
       "        vertical-align: middle;\n",
       "    }\n",
       "\n",
       "    .dataframe tbody tr th {\n",
       "        vertical-align: top;\n",
       "    }\n",
       "\n",
       "    .dataframe thead th {\n",
       "        text-align: right;\n",
       "    }\n",
       "</style>\n",
       "<table border=\"1\" class=\"dataframe\">\n",
       "  <thead>\n",
       "    <tr style=\"text-align: right;\">\n",
       "      <th></th>\n",
       "      <th>DATE_</th>\n",
       "      <th>OPERATION</th>\n",
       "      <th>SQL_</th>\n",
       "      <th>SQL_1</th>\n",
       "      <th>TABLE_NAME</th>\n",
       "      <th>TABLE_OWNER</th>\n",
       "      <th>TABLE_SPACE</th>\n",
       "      <th>TIME_</th>\n",
       "      <th>USERNAME</th>\n",
       "    </tr>\n",
       "  </thead>\n",
       "  <tbody>\n",
       "    <tr>\n",
       "      <th>0</th>\n",
       "      <td>18/10/18</td>\n",
       "      <td>DDL</td>\n",
       "      <td>CREATE USER USER1 IDENTIFIED BY  VALUES 'BBE77...</td>\n",
       "      <td>None</td>\n",
       "      <td>None</td>\n",
       "      <td>USER1</td>\n",
       "      <td>None</td>\n",
       "      <td>1:12:134</td>\n",
       "      <td>SYS</td>\n",
       "    </tr>\n",
       "    <tr>\n",
       "      <th>1</th>\n",
       "      <td>18/10/18</td>\n",
       "      <td>DDL</td>\n",
       "      <td>CREATE TABLE \"USER1\".\"T1\"(\\na int,\\nb int,\\nc ...</td>\n",
       "      <td>None</td>\n",
       "      <td>T1</td>\n",
       "      <td>USER1</td>\n",
       "      <td>None</td>\n",
       "      <td>1:14:134</td>\n",
       "      <td>SYS</td>\n",
       "    </tr>\n",
       "    <tr>\n",
       "      <th>2</th>\n",
       "      <td>18/10/18</td>\n",
       "      <td>INSERT</td>\n",
       "      <td>insert into \"USER1\".\"T1\"(\"A\",\"B\",\"C\") values (...</td>\n",
       "      <td>delete from \"USER1\".\"T1\" where \"A\" = '1' and \"...</td>\n",
       "      <td>T1</td>\n",
       "      <td>USER1</td>\n",
       "      <td>TS1</td>\n",
       "      <td>2:8:124</td>\n",
       "      <td>SYS</td>\n",
       "    </tr>\n",
       "    <tr>\n",
       "      <th>3</th>\n",
       "      <td>19/10/18</td>\n",
       "      <td>INSERT</td>\n",
       "      <td>insert into \"USER1\".\"T1\"(\"A\",\"B\",\"C\") values (...</td>\n",
       "      <td>delete from \"USER1\".\"T1\" where \"A\" = '2' and \"...</td>\n",
       "      <td>T1</td>\n",
       "      <td>USER1</td>\n",
       "      <td>TS1</td>\n",
       "      <td>10:33:1050</td>\n",
       "      <td>SYS</td>\n",
       "    </tr>\n",
       "    <tr>\n",
       "      <th>4</th>\n",
       "      <td>19/10/18</td>\n",
       "      <td>INSERT</td>\n",
       "      <td>insert into \"USER1\".\"T1\"(\"A\",\"B\",\"C\") values (...</td>\n",
       "      <td>delete from \"USER1\".\"T1\" where \"A\" = '3' and \"...</td>\n",
       "      <td>T1</td>\n",
       "      <td>USER1</td>\n",
       "      <td>TS1</td>\n",
       "      <td>10:33:1050</td>\n",
       "      <td>SYS</td>\n",
       "    </tr>\n",
       "    <tr>\n",
       "      <th>5</th>\n",
       "      <td>19/10/18</td>\n",
       "      <td>INSERT</td>\n",
       "      <td>insert into \"USER1\".\"T1\"(\"A\",\"B\",\"C\") values (...</td>\n",
       "      <td>delete from \"USER1\".\"T1\" where \"A\" = '4' and \"...</td>\n",
       "      <td>T1</td>\n",
       "      <td>USER1</td>\n",
       "      <td>TS1</td>\n",
       "      <td>10:33:1050</td>\n",
       "      <td>SYS</td>\n",
       "    </tr>\n",
       "  </tbody>\n",
       "</table>\n",
       "</div>"
      ],
      "text/plain": [
       "      DATE_ OPERATION                                               SQL_  \\\n",
       "0  18/10/18       DDL  CREATE USER USER1 IDENTIFIED BY  VALUES 'BBE77...   \n",
       "1  18/10/18       DDL  CREATE TABLE \"USER1\".\"T1\"(\\na int,\\nb int,\\nc ...   \n",
       "2  18/10/18    INSERT  insert into \"USER1\".\"T1\"(\"A\",\"B\",\"C\") values (...   \n",
       "3  19/10/18    INSERT  insert into \"USER1\".\"T1\"(\"A\",\"B\",\"C\") values (...   \n",
       "4  19/10/18    INSERT  insert into \"USER1\".\"T1\"(\"A\",\"B\",\"C\") values (...   \n",
       "5  19/10/18    INSERT  insert into \"USER1\".\"T1\"(\"A\",\"B\",\"C\") values (...   \n",
       "\n",
       "                                               SQL_1 TABLE_NAME TABLE_OWNER  \\\n",
       "0                                               None       None       USER1   \n",
       "1                                               None         T1       USER1   \n",
       "2  delete from \"USER1\".\"T1\" where \"A\" = '1' and \"...         T1       USER1   \n",
       "3  delete from \"USER1\".\"T1\" where \"A\" = '2' and \"...         T1       USER1   \n",
       "4  delete from \"USER1\".\"T1\" where \"A\" = '3' and \"...         T1       USER1   \n",
       "5  delete from \"USER1\".\"T1\" where \"A\" = '4' and \"...         T1       USER1   \n",
       "\n",
       "  TABLE_SPACE       TIME_ USERNAME  \n",
       "0        None    1:12:134      SYS  \n",
       "1        None    1:14:134      SYS  \n",
       "2         TS1     2:8:124      SYS  \n",
       "3         TS1  10:33:1050      SYS  \n",
       "4         TS1  10:33:1050      SYS  \n",
       "5         TS1  10:33:1050      SYS  "
      ]
     },
     "execution_count": 22,
     "metadata": {},
     "output_type": "execute_result"
    }
   ],
   "source": [
    "data"
   ]
  },
  {
   "cell_type": "code",
   "execution_count": 23,
   "metadata": {
    "collapsed": true
   },
   "outputs": [
    {
     "data": {
      "text/plain": [
       "Index(['DATE_', 'OPERATION', 'SQL_', 'SQL_1', 'TABLE_NAME', 'TABLE_OWNER',\n",
       "       'TABLE_SPACE', 'TIME_', 'USERNAME'],\n",
       "      dtype='object')"
      ]
     },
     "execution_count": 23,
     "metadata": {},
     "output_type": "execute_result"
    }
   ],
   "source": [
    "data.columns"
   ]
  },
  {
   "cell_type": "code",
   "execution_count": 26,
   "metadata": {},
   "outputs": [
    {
     "data": {
      "text/plain": [
       "<matplotlib.axes._subplots.AxesSubplot at 0x22b4b9739b0>"
      ]
     },
     "execution_count": 26,
     "metadata": {},
     "output_type": "execute_result"
    },
    {
     "data": {
      "image/png": "[encoded data removed]",
      "text/plain": [
       "<matplotlib.figure.Figure at 0x22b4b94ad68>"
      ]
     },
     "metadata": {},
     "output_type": "display_data"
    }
   ],
   "source": [
    "%matplotlib inline\n",
    "data.groupby(['DATE_'])['DATE_'].count().plot(kind=\"bar\", x=\"DATE\")"
   ]
  },
  {
   "cell_type": "code",
   "execution_count": 27,
   "metadata": {},
   "outputs": [
    {
     "data": {
      "text/plain": [
       "<matplotlib.axes._subplots.AxesSubplot at 0x22b4b945fd0>"
      ]
     },
     "execution_count": 27,
     "metadata": {},
     "output_type": "execute_result"
    },
    {
     "data": {
      "image/png": "[encoded data removed]",
      "text/plain": [
       "<matplotlib.figure.Figure at 0x22b4b9b13c8>"
      ]
     },
     "metadata": {},
     "output_type": "display_data"
    }
   ],
   "source": [
    "%matplotlib inline\n",
    "data.groupby(['TIME_'])['TIME_'].count().plot(kind=\"bar\", x=\"TIME_\")"
   ]
  },
  {
   "cell_type": "code",
   "execution_count": null,
   "metadata": {},
   "outputs": [],
   "source": [
    "%matplotlib inline\n",
    "data.groupby(['DATE_'])['DATE_'].count().plot(kind=\"bar\", x=\"DATE\")"
   ]
  },
  {
   "cell_type": "code",
   "execution_count": 28,
   "metadata": {},
   "outputs": [
    {
     "data": {
      "text/plain": [
       "<matplotlib.axes._subplots.AxesSubplot at 0x22b4b9d1470>"
      ]
     },
     "execution_count": 28,
     "metadata": {},
     "output_type": "execute_result"
    },
    {
     "data": {
      "image/png": "[encoded data removed]",
      "text/plain": [
       "<matplotlib.figure.Figure at 0x22b4a82ab38>"
      ]
     },
     "metadata": {},
     "output_type": "display_data"
    }
   ],
   "source": [
    "%matplotlib inline\n",
    "data.groupby(['OPERATION'])['OPERATION'].count().plot(kind=\"bar\", x=\"OPERATION\")"
   ]
  },
  {
   "cell_type": "code",
   "execution_count": null,
   "metadata": {},
   "outputs": [],
   "source": []
  }
 ],
 "metadata": {
  "kernelspec": {
   "display_name": "Python 3",
   "language": "python",
   "name": "python3"
  },
  "language_info": {
   "codemirror_mode": {
    "name": "ipython",
    "version": 3
   },
   "file_extension": ".py",
   "mimetype": "text/x-python",
   "name": "python",
   "nbconvert_exporter": "python",
   "pygments_lexer": "ipython3",
   "version": "3.6.4"
  }
 },
 "nbformat": 4,
 "nbformat_minor": 2
}
