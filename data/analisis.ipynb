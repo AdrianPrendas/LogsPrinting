{
 "cells": [
  {
   "cell_type": "code",
   "execution_count": 1,
   "metadata": {},
   "outputs": [],
   "source": [
    "import pandas as pd\n",
    "import sys\n",
    "sys.path.append(\"C:\\\\Users\\\\a6r1a\\\\Desktop\\\\JupyterQt-master\")# db_oracle path, in wodows user \\\\\n",
    "from db_oracle import DB\n",
    "#5ae45b792a6eaa61d973d43b01c87418d8e33df917ebc8a3"
   ]
  },
  {
   "cell_type": "code",
   "execution_count": 2,
   "metadata": {},
   "outputs": [
    {
     "data": {
      "text/plain": [
       "'sys/manager@127.0.0.1:1521/GO'"
      ]
     },
     "execution_count": 2,
     "metadata": {},
     "output_type": "execute_result"
    }
   ],
   "source": [
    "CONN_INFO = {\n",
    "    'host': '127.0.0.1',\n",
    "    'port': 1521,\n",
    "    'user': 'sys',\n",
    "    'pass': 'manager',\n",
    "    'service':'GO'\n",
    "}\n",
    "CONN_STR = '{user}/{pass}@{host}:{port}/{service}'.format(**CONN_INFO)\n",
    "CONN_STR"
   ]
  },
  {
   "cell_type": "code",
   "execution_count": 3,
   "metadata": {},
   "outputs": [],
   "source": [
    "db = DB(CONN_STR)"
   ]
  },
  {
   "cell_type": "code",
   "execution_count": 4,
   "metadata": {},
   "outputs": [],
   "source": [
    "df = pd.DataFrame.from_dict(\n",
    "    db.exec_dml('''select * from logminerFiltered \n",
    "                    where username <> 'UNKNOWN' \n",
    "                    and username <> 'SYSTEM'\n",
    "                    and username <> 'SYS' \n",
    "                    and table_space <> 'None' \n",
    "                    and table_space <> 'UNKNOW' \n",
    "                    and table_name <> 'None'\n",
    "                    and seg_owner <>  'SYS' '''))"
   ]
  },
  {
   "cell_type": "code",
   "execution_count": 5,
   "metadata": {},
   "outputs": [
    {
     "data": {
      "text/plain": [
       "(213, 9)"
      ]
     },
     "execution_count": 5,
     "metadata": {},
     "output_type": "execute_result"
    }
   ],
   "source": [
    "df.shape #dimenciones de la tabla, (rows,cols)"
   ]
  },
  {
   "cell_type": "code",
   "execution_count": 6,
   "metadata": {},
   "outputs": [],
   "source": [
    "pd.set_option('display.max_colwidth', -1)#permite mostrar todo el contenido de la columna, en vez de ..."
   ]
  },
  {
   "cell_type": "code",
   "execution_count": 7,
   "metadata": {},
   "outputs": [
    {
     "data": {
      "text/html": [
       "<div>\n",
       "<style scoped>\n",
       "    .dataframe tbody tr th:only-of-type {\n",
       "        vertical-align: middle;\n",
       "    }\n",
       "\n",
       "    .dataframe tbody tr th {\n",
       "        vertical-align: top;\n",
       "    }\n",
       "\n",
       "    .dataframe thead th {\n",
       "        text-align: right;\n",
       "    }\n",
       "</style>\n",
       "<table border=\"1\" class=\"dataframe\">\n",
       "  <thead>\n",
       "    <tr style=\"text-align: right;\">\n",
       "      <th></th>\n",
       "      <th>DATE_</th>\n",
       "      <th>OPERATION</th>\n",
       "      <th>SEG_OWNER</th>\n",
       "      <th>SQL_</th>\n",
       "      <th>SQL_1</th>\n",
       "      <th>TABLE_NAME</th>\n",
       "      <th>TABLE_SPACE</th>\n",
       "      <th>TIME_</th>\n",
       "      <th>USERNAME</th>\n",
       "    </tr>\n",
       "  </thead>\n",
       "  <tbody>\n",
       "    <tr>\n",
       "      <th>0</th>\n",
       "      <td>04/11/18</td>\n",
       "      <td>INSERT</td>\n",
       "      <td>USER1</td>\n",
       "      <td>insert into \"USER1\".\"T1\"(\"A\",\"B\",\"C\") values ('1','1','Hola soy u1');</td>\n",
       "      <td>delete from \"USER1\".\"T1\" where \"A\" = '1' and \"B\" = '1' and \"C\" = 'Hola soy u1' and ROWID = 'AAADL9AAEAAAACbAAt';</td>\n",
       "      <td>T1</td>\n",
       "      <td>TS1</td>\n",
       "      <td>9:19:118</td>\n",
       "      <td>USER1</td>\n",
       "    </tr>\n",
       "    <tr>\n",
       "      <th>1</th>\n",
       "      <td>04/11/18</td>\n",
       "      <td>INSERT</td>\n",
       "      <td>USER1</td>\n",
       "      <td>insert into \"USER1\".\"T1\"(\"A\",\"B\",\"C\") values ('1','2','Adios tprueba1');</td>\n",
       "      <td>delete from \"USER1\".\"T1\" where \"A\" = '1' and \"B\" = '2' and \"C\" = 'Adios tprueba1' and ROWID = 'AAADL9AAEAAAACbAAu';</td>\n",
       "      <td>T1</td>\n",
       "      <td>TS1</td>\n",
       "      <td>9:19:118</td>\n",
       "      <td>USER1</td>\n",
       "    </tr>\n",
       "    <tr>\n",
       "      <th>2</th>\n",
       "      <td>04/11/18</td>\n",
       "      <td>INSERT</td>\n",
       "      <td>USER1</td>\n",
       "      <td>insert into \"USER1\".\"T1\"(\"A\",\"B\",\"C\") values ('2','1','Adios tprueba1');</td>\n",
       "      <td>delete from \"USER1\".\"T1\" where \"A\" = '2' and \"B\" = '1' and \"C\" = 'Adios tprueba1' and ROWID = 'AAADL9AAEAAAACbAAv';</td>\n",
       "      <td>T1</td>\n",
       "      <td>TS1</td>\n",
       "      <td>9:19:118</td>\n",
       "      <td>USER1</td>\n",
       "    </tr>\n",
       "  </tbody>\n",
       "</table>\n",
       "</div>"
      ],
      "text/plain": [
       "      DATE_ OPERATION SEG_OWNER  \\\n",
       "0  04/11/18  INSERT    USER1      \n",
       "1  04/11/18  INSERT    USER1      \n",
       "2  04/11/18  INSERT    USER1      \n",
       "\n",
       "                                                                       SQL_  \\\n",
       "0  insert into \"USER1\".\"T1\"(\"A\",\"B\",\"C\") values ('1','1','Hola soy u1');      \n",
       "1  insert into \"USER1\".\"T1\"(\"A\",\"B\",\"C\") values ('1','2','Adios tprueba1');   \n",
       "2  insert into \"USER1\".\"T1\"(\"A\",\"B\",\"C\") values ('2','1','Adios tprueba1');   \n",
       "\n",
       "                                                                                                                 SQL_1  \\\n",
       "0  delete from \"USER1\".\"T1\" where \"A\" = '1' and \"B\" = '1' and \"C\" = 'Hola soy u1' and ROWID = 'AAADL9AAEAAAACbAAt';      \n",
       "1  delete from \"USER1\".\"T1\" where \"A\" = '1' and \"B\" = '2' and \"C\" = 'Adios tprueba1' and ROWID = 'AAADL9AAEAAAACbAAu';   \n",
       "2  delete from \"USER1\".\"T1\" where \"A\" = '2' and \"B\" = '1' and \"C\" = 'Adios tprueba1' and ROWID = 'AAADL9AAEAAAACbAAv';   \n",
       "\n",
       "  TABLE_NAME TABLE_SPACE     TIME_ USERNAME  \n",
       "0  T1         TS1         9:19:118  USER1    \n",
       "1  T1         TS1         9:19:118  USER1    \n",
       "2  T1         TS1         9:19:118  USER1    "
      ]
     },
     "execution_count": 7,
     "metadata": {},
     "output_type": "execute_result"
    }
   ],
   "source": [
    "df.head(3)"
   ]
  },
  {
   "cell_type": "code",
   "execution_count": 23,
   "metadata": {
    "scrolled": true
   },
   "outputs": [
    {
     "data": {
      "text/plain": [
       "Text(0,0.5,'TRANSACTIONS')"
      ]
     },
     "execution_count": 23,
     "metadata": {},
     "output_type": "execute_result"
    },
    {
     "data": {
      "image/png": "[encoded data removed]",
      "text/plain": [
       "<matplotlib.figure.Figure at 0x1cff2da0470>"
      ]
     },
     "metadata": {},
     "output_type": "display_data"
    }
   ],
   "source": [
    "%matplotlib inline\n",
    "df.groupby(['DATE_'])['DATE_'].count().plot(kind=\"bar\",title=\"number of transactions for day\").set_ylabel(\"TRANSACTIONS\")"
   ]
  },
  {
   "cell_type": "code",
   "execution_count": 24,
   "metadata": {
    "scrolled": true
   },
   "outputs": [
    {
     "data": {
      "text/plain": [
       "Text(0,0.5,'TRANSACTIONS')"
      ]
     },
     "execution_count": 24,
     "metadata": {},
     "output_type": "execute_result"
    },
    {
     "data": {
      "image/png": "[encoded data removed]",
      "text/plain": [
       "<matplotlib.figure.Figure at 0x1cff1dbf7b8>"
      ]
     },
     "metadata": {},
     "output_type": "display_data"
    }
   ],
   "source": [
    "%matplotlib inline\n",
    "df.groupby(['TIME_'])['TIME_'].count().plot(kind=\"bar\", title=\"number of transactions for hour\").set_ylabel(\"TRANSACTIONS\")"
   ]
  },
  {
   "cell_type": "code",
   "execution_count": 26,
   "metadata": {
    "scrolled": true
   },
   "outputs": [
    {
     "data": {
      "text/plain": [
       "<matplotlib.axes._subplots.AxesSubplot at 0x1cff3281be0>"
      ]
     },
     "execution_count": 26,
     "metadata": {},
     "output_type": "execute_result"
    },
    {
     "data": {
      "image/png": "[encoded data removed]",
      "text/plain": [
       "<matplotlib.figure.Figure at 0x1cff32516a0>"
      ]
     },
     "metadata": {},
     "output_type": "display_data"
    }
   ],
   "source": [
    "%matplotlib inline\n",
    "df.groupby(['TABLE_SPACE'])['TABLE_SPACE'].count().plot(kind=\"pie\", title=\"number of transactions for tablespace\")"
   ]
  },
  {
   "cell_type": "code",
   "execution_count": null,
   "metadata": {},
   "outputs": [],
   "source": [
    "%matplotlib inline\n",
    "df.groupby(['TABLE_NAME'])['TABLE_NAME'].count().plot(kind=\"pie\", x=\"TABLE_NAME\")"
   ]
  },
  {
   "cell_type": "code",
   "execution_count": null,
   "metadata": {
    "scrolled": true
   },
   "outputs": [],
   "source": [
    "df.groupby(['USERNAME'])['USERNAME'].count().plot(kind=\"bar\", x=\"USERNAME\")"
   ]
  },
  {
   "cell_type": "code",
   "execution_count": null,
   "metadata": {},
   "outputs": [],
   "source": [
    "df.groupby(['OPERATION'])['OPERATION'].count().plot(kind=\"bar\", x=\"OPERATION\")"
   ]
  },
  {
   "cell_type": "code",
   "execution_count": null,
   "metadata": {},
   "outputs": [],
   "source": []
  }
 ],
 "metadata": {
  "kernelspec": {
   "display_name": "Python 3",
   "language": "python",
   "name": "python3"
  },
  "language_info": {
   "codemirror_mode": {
    "name": "ipython",
    "version": 3
   },
   "file_extension": ".py",
   "mimetype": "text/x-python",
   "name": "python",
   "nbconvert_exporter": "python",
   "pygments_lexer": "ipython3",
   "version": "3.6.4"
  }
 },
 "nbformat": 4,
 "nbformat_minor": 2
}
