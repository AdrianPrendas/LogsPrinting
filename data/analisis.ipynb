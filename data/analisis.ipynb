{
 "cells": [
  {
   "cell_type": "code",
   "execution_count": 1,
   "metadata": {},
   "outputs": [],
   "source": [
    "import pandas as pd\n",
    "import sys\n",
    "sys.path.append(\"C:\\\\Users\\\\a6r1a\\\\Desktop\\\\LogsPrinting\\\\src\")# db_oracle path, in widows use \"\\\\\"\n",
    "from db_oracle import DB\n"
   ]
  },
  {
   "cell_type": "code",
   "execution_count": 2,
   "metadata": {},
   "outputs": [
    {
     "data": {
      "text/plain": [
       "'sys/manager@127.0.0.1:1521/GO'"
      ]
     },
     "execution_count": 2,
     "metadata": {},
     "output_type": "execute_result"
    }
   ],
   "source": [
    "CONN_INFO = {\n",
    "    'host': '127.0.0.1',\n",
    "    'port': 1521,\n",
    "    'user': 'sys',\n",
    "    'pass': 'manager',\n",
    "    'service':'GO'\n",
    "}\n",
    "CONN_STR = '{user}/{pass}@{host}:{port}/{service}'.format(**CONN_INFO)\n",
    "CONN_STR"
   ]
  },
  {
   "cell_type": "code",
   "execution_count": 3,
   "metadata": {},
   "outputs": [],
   "source": [
    "db = DB(CONN_STR)"
   ]
  },
  {
   "cell_type": "code",
   "execution_count": 24,
   "metadata": {},
   "outputs": [
    {
     "data": {
      "text/html": [
       "<div>\n",
       "<style scoped>\n",
       "    .dataframe tbody tr th:only-of-type {\n",
       "        vertical-align: middle;\n",
       "    }\n",
       "\n",
       "    .dataframe tbody tr th {\n",
       "        vertical-align: top;\n",
       "    }\n",
       "\n",
       "    .dataframe thead th {\n",
       "        text-align: right;\n",
       "    }\n",
       "</style>\n",
       "<table border=\"1\" class=\"dataframe\">\n",
       "  <thead>\n",
       "    <tr style=\"text-align: right;\">\n",
       "      <th></th>\n",
       "      <th>OWNER</th>\n",
       "      <th>TABLESPACE_NAME</th>\n",
       "      <th>TABLE_NAME</th>\n",
       "    </tr>\n",
       "  </thead>\n",
       "  <tbody>\n",
       "    <tr>\n",
       "      <th>0</th>\n",
       "      <td>USER1</td>\n",
       "      <td>TS1</td>\n",
       "      <td>T1</td>\n",
       "    </tr>\n",
       "    <tr>\n",
       "      <th>1</th>\n",
       "      <td>USER4</td>\n",
       "      <td>TS4</td>\n",
       "      <td>T4</td>\n",
       "    </tr>\n",
       "    <tr>\n",
       "      <th>2</th>\n",
       "      <td>USER5</td>\n",
       "      <td>TS5</td>\n",
       "      <td>T5</td>\n",
       "    </tr>\n",
       "    <tr>\n",
       "      <th>3</th>\n",
       "      <td>USER2</td>\n",
       "      <td>TS2</td>\n",
       "      <td>T2</td>\n",
       "    </tr>\n",
       "    <tr>\n",
       "      <th>4</th>\n",
       "      <td>USER3</td>\n",
       "      <td>TS3</td>\n",
       "      <td>T3</td>\n",
       "    </tr>\n",
       "  </tbody>\n",
       "</table>\n",
       "</div>"
      ],
      "text/plain": [
       "   OWNER TABLESPACE_NAME TABLE_NAME\n",
       "0  USER1  TS1             T1       \n",
       "1  USER4  TS4             T4       \n",
       "2  USER5  TS5             T5       \n",
       "3  USER2  TS2             T2       \n",
       "4  USER3  TS3             T3       "
      ]
     },
     "execution_count": 24,
     "metadata": {},
     "output_type": "execute_result"
    }
   ],
   "source": [
    "pd.DataFrame.from_dict(db.exec_dml('''select owner, table_name, tablespace_name from dba_tables\n",
    "                                                where owner in (select username from dba_users \n",
    "                                                        where username <> 'OUTLN' \n",
    "                                                        and username <> 'DIP'\n",
    "                                                        and username <> 'ORACLE_OCM'\n",
    "                                                        and username <> 'APPQOSSYS'\n",
    "                                                        and username <> 'DBSNMP'\n",
    "                                                        and username <> 'SYS'\n",
    "                                                        and username <> 'SYSTEM')\n",
    "'''))"
   ]
  },
  {
   "cell_type": "code",
   "execution_count": 22,
   "metadata": {},
   "outputs": [],
   "source": [
    "df = pd.DataFrame.from_dict(\n",
    "    db.exec_dml('''select * from logminerFiltered \n",
    "                    where username <> 'UNKNOWN' \n",
    "                    and username <> 'SYSTEM'\n",
    "                    and username <> 'SYS' \n",
    "                    and table_space <> 'None' \n",
    "                    and table_space <> 'UNKNOWN' \n",
    "                    and table_name <> 'None'\n",
    "                    and seg_owner <>  'SYS' '''))"
   ]
  },
  {
   "cell_type": "code",
   "execution_count": 17,
   "metadata": {},
   "outputs": [
    {
     "data": {
      "text/plain": [
       "(34613, 9)"
      ]
     },
     "execution_count": 17,
     "metadata": {},
     "output_type": "execute_result"
    }
   ],
   "source": [
    "df.shape #dimenciones de la tabla, (rows,cols)"
   ]
  },
  {
   "cell_type": "code",
   "execution_count": 7,
   "metadata": {},
   "outputs": [],
   "source": [
    "pd.set_option('display.max_colwidth', -1)#permite mostrar todo el contenido de la columna, en vez de ..."
   ]
  },
  {
   "cell_type": "code",
   "execution_count": 8,
   "metadata": {},
   "outputs": [
    {
     "data": {
      "text/html": [
       "<div>\n",
       "<style scoped>\n",
       "    .dataframe tbody tr th:only-of-type {\n",
       "        vertical-align: middle;\n",
       "    }\n",
       "\n",
       "    .dataframe tbody tr th {\n",
       "        vertical-align: top;\n",
       "    }\n",
       "\n",
       "    .dataframe thead th {\n",
       "        text-align: right;\n",
       "    }\n",
       "</style>\n",
       "<table border=\"1\" class=\"dataframe\">\n",
       "  <thead>\n",
       "    <tr style=\"text-align: right;\">\n",
       "      <th></th>\n",
       "      <th>DATE_</th>\n",
       "      <th>OPERATION</th>\n",
       "      <th>SEG_OWNER</th>\n",
       "      <th>SQL_</th>\n",
       "      <th>SQL_1</th>\n",
       "      <th>TABLE_NAME</th>\n",
       "      <th>TABLE_SPACE</th>\n",
       "      <th>TIME_</th>\n",
       "      <th>USERNAME</th>\n",
       "    </tr>\n",
       "  </thead>\n",
       "  <tbody>\n",
       "    <tr>\n",
       "      <th>0</th>\n",
       "      <td>04/11/18</td>\n",
       "      <td>INSERT</td>\n",
       "      <td>USER1</td>\n",
       "      <td>insert into \"USER1\".\"T1\"(\"A\",\"B\",\"C\") values ('1','1','Hola soy u1');</td>\n",
       "      <td>delete from \"USER1\".\"T1\" where \"A\" = '1' and \"B\" = '1' and \"C\" = 'Hola soy u1' and ROWID = 'AAADL9AAEAAAACbAAt';</td>\n",
       "      <td>T1</td>\n",
       "      <td>TS1</td>\n",
       "      <td>9:19:118</td>\n",
       "      <td>USER1</td>\n",
       "    </tr>\n",
       "    <tr>\n",
       "      <th>1</th>\n",
       "      <td>04/11/18</td>\n",
       "      <td>INSERT</td>\n",
       "      <td>USER1</td>\n",
       "      <td>insert into \"USER1\".\"T1\"(\"A\",\"B\",\"C\") values ('1','2','Adios tprueba1');</td>\n",
       "      <td>delete from \"USER1\".\"T1\" where \"A\" = '1' and \"B\" = '2' and \"C\" = 'Adios tprueba1' and ROWID = 'AAADL9AAEAAAACbAAu';</td>\n",
       "      <td>T1</td>\n",
       "      <td>TS1</td>\n",
       "      <td>9:19:118</td>\n",
       "      <td>USER1</td>\n",
       "    </tr>\n",
       "    <tr>\n",
       "      <th>2</th>\n",
       "      <td>04/11/18</td>\n",
       "      <td>INSERT</td>\n",
       "      <td>USER1</td>\n",
       "      <td>insert into \"USER1\".\"T1\"(\"A\",\"B\",\"C\") values ('2','1','Adios tprueba1');</td>\n",
       "      <td>delete from \"USER1\".\"T1\" where \"A\" = '2' and \"B\" = '1' and \"C\" = 'Adios tprueba1' and ROWID = 'AAADL9AAEAAAACbAAv';</td>\n",
       "      <td>T1</td>\n",
       "      <td>TS1</td>\n",
       "      <td>9:19:118</td>\n",
       "      <td>USER1</td>\n",
       "    </tr>\n",
       "  </tbody>\n",
       "</table>\n",
       "</div>"
      ],
      "text/plain": [
       "      DATE_ OPERATION SEG_OWNER  \\\n",
       "0  04/11/18  INSERT    USER1      \n",
       "1  04/11/18  INSERT    USER1      \n",
       "2  04/11/18  INSERT    USER1      \n",
       "\n",
       "                                                                       SQL_  \\\n",
       "0  insert into \"USER1\".\"T1\"(\"A\",\"B\",\"C\") values ('1','1','Hola soy u1');      \n",
       "1  insert into \"USER1\".\"T1\"(\"A\",\"B\",\"C\") values ('1','2','Adios tprueba1');   \n",
       "2  insert into \"USER1\".\"T1\"(\"A\",\"B\",\"C\") values ('2','1','Adios tprueba1');   \n",
       "\n",
       "                                                                                                                 SQL_1  \\\n",
       "0  delete from \"USER1\".\"T1\" where \"A\" = '1' and \"B\" = '1' and \"C\" = 'Hola soy u1' and ROWID = 'AAADL9AAEAAAACbAAt';      \n",
       "1  delete from \"USER1\".\"T1\" where \"A\" = '1' and \"B\" = '2' and \"C\" = 'Adios tprueba1' and ROWID = 'AAADL9AAEAAAACbAAu';   \n",
       "2  delete from \"USER1\".\"T1\" where \"A\" = '2' and \"B\" = '1' and \"C\" = 'Adios tprueba1' and ROWID = 'AAADL9AAEAAAACbAAv';   \n",
       "\n",
       "  TABLE_NAME TABLE_SPACE     TIME_ USERNAME  \n",
       "0  T1         TS1         9:19:118  USER1    \n",
       "1  T1         TS1         9:19:118  USER1    \n",
       "2  T1         TS1         9:19:118  USER1    "
      ]
     },
     "execution_count": 8,
     "metadata": {},
     "output_type": "execute_result"
    }
   ],
   "source": [
    "df.head(3)"
   ]
  },
  {
   "cell_type": "code",
   "execution_count": 9,
   "metadata": {},
   "outputs": [
    {
     "data": {
      "text/html": [
       "<div>\n",
       "<style scoped>\n",
       "    .dataframe tbody tr th:only-of-type {\n",
       "        vertical-align: middle;\n",
       "    }\n",
       "\n",
       "    .dataframe tbody tr th {\n",
       "        vertical-align: top;\n",
       "    }\n",
       "\n",
       "    .dataframe thead th {\n",
       "        text-align: right;\n",
       "    }\n",
       "</style>\n",
       "<table border=\"1\" class=\"dataframe\">\n",
       "  <thead>\n",
       "    <tr style=\"text-align: right;\">\n",
       "      <th></th>\n",
       "      <th>DATE_</th>\n",
       "      <th>OPERATION</th>\n",
       "      <th>SEG_OWNER</th>\n",
       "      <th>SQL_</th>\n",
       "      <th>SQL_1</th>\n",
       "      <th>TABLE_NAME</th>\n",
       "      <th>TABLE_SPACE</th>\n",
       "      <th>TIME_</th>\n",
       "      <th>USERNAME</th>\n",
       "    </tr>\n",
       "  </thead>\n",
       "  <tbody>\n",
       "    <tr>\n",
       "      <th>653</th>\n",
       "      <td>05/11/18</td>\n",
       "      <td>DELETE</td>\n",
       "      <td>USER3</td>\n",
       "      <td>delete from \"USER3\".\"T3\" where \"A\" = '54' and \"B\" = '2' and \"C\" = 'Adios t3' and ROWID = 'AAADMIAAHAAAACDAAD';</td>\n",
       "      <td>insert into \"USER3\".\"T3\"(\"A\",\"B\",\"C\") values ('54','2','Adios t3');</td>\n",
       "      <td>T3</td>\n",
       "      <td>TS3</td>\n",
       "      <td>6:18:115</td>\n",
       "      <td>USER3</td>\n",
       "    </tr>\n",
       "    <tr>\n",
       "      <th>654</th>\n",
       "      <td>05/11/18</td>\n",
       "      <td>DELETE</td>\n",
       "      <td>USER3</td>\n",
       "      <td>delete from \"USER3\".\"T3\" where \"A\" = '54' and \"B\" = '2' and \"C\" = 'Adios t3' and ROWID = 'AAADMIAAHAAAACDAAE';</td>\n",
       "      <td>insert into \"USER3\".\"T3\"(\"A\",\"B\",\"C\") values ('54','2','Adios t3');</td>\n",
       "      <td>T3</td>\n",
       "      <td>TS3</td>\n",
       "      <td>6:18:115</td>\n",
       "      <td>USER3</td>\n",
       "    </tr>\n",
       "    <tr>\n",
       "      <th>655</th>\n",
       "      <td>05/11/18</td>\n",
       "      <td>DELETE</td>\n",
       "      <td>USER3</td>\n",
       "      <td>delete from \"USER3\".\"T3\" where \"A\" = '54' and \"B\" = '2' and \"C\" = 'Adios t3' and ROWID = 'AAADMIAAHAAAACDAAF';</td>\n",
       "      <td>insert into \"USER3\".\"T3\"(\"A\",\"B\",\"C\") values ('54','2','Adios t3');</td>\n",
       "      <td>T3</td>\n",
       "      <td>TS3</td>\n",
       "      <td>6:18:115</td>\n",
       "      <td>USER3</td>\n",
       "    </tr>\n",
       "  </tbody>\n",
       "</table>\n",
       "</div>"
      ],
      "text/plain": [
       "        DATE_ OPERATION SEG_OWNER  \\\n",
       "653  05/11/18  DELETE    USER3      \n",
       "654  05/11/18  DELETE    USER3      \n",
       "655  05/11/18  DELETE    USER3      \n",
       "\n",
       "                                                                                                               SQL_  \\\n",
       "653  delete from \"USER3\".\"T3\" where \"A\" = '54' and \"B\" = '2' and \"C\" = 'Adios t3' and ROWID = 'AAADMIAAHAAAACDAAD';   \n",
       "654  delete from \"USER3\".\"T3\" where \"A\" = '54' and \"B\" = '2' and \"C\" = 'Adios t3' and ROWID = 'AAADMIAAHAAAACDAAE';   \n",
       "655  delete from \"USER3\".\"T3\" where \"A\" = '54' and \"B\" = '2' and \"C\" = 'Adios t3' and ROWID = 'AAADMIAAHAAAACDAAF';   \n",
       "\n",
       "                                                                   SQL_1  \\\n",
       "653  insert into \"USER3\".\"T3\"(\"A\",\"B\",\"C\") values ('54','2','Adios t3');   \n",
       "654  insert into \"USER3\".\"T3\"(\"A\",\"B\",\"C\") values ('54','2','Adios t3');   \n",
       "655  insert into \"USER3\".\"T3\"(\"A\",\"B\",\"C\") values ('54','2','Adios t3');   \n",
       "\n",
       "    TABLE_NAME TABLE_SPACE     TIME_ USERNAME  \n",
       "653  T3         TS3         6:18:115  USER3    \n",
       "654  T3         TS3         6:18:115  USER3    \n",
       "655  T3         TS3         6:18:115  USER3    "
      ]
     },
     "execution_count": 9,
     "metadata": {},
     "output_type": "execute_result"
    }
   ],
   "source": [
    "df.loc[df['OPERATION'].isin(['DELETE']) & df['TABLE_NAME'].isin(['T3'])].head(3)"
   ]
  },
  {
   "cell_type": "code",
   "execution_count": 10,
   "metadata": {
    "scrolled": true
   },
   "outputs": [
    {
     "data": {
      "text/plain": [
       "Text(0,0.5,'TRANSACTIONS')"
      ]
     },
     "execution_count": 10,
     "metadata": {},
     "output_type": "execute_result"
    },
    {
     "data": {
      "image/png": "[encoded data removed]",
      "text/plain": [
       "<matplotlib.figure.Figure at 0x28ba53f5b70>"
      ]
     },
     "metadata": {},
     "output_type": "display_data"
    }
   ],
   "source": [
    "%matplotlib inline\n",
    "df.groupby(['DATE_'])['DATE_'].count().plot(kind=\"bar\",title=\"number of transactions for day\").set_ylabel(\"TRANSACTIONS\")"
   ]
  },
  {
   "cell_type": "code",
   "execution_count": 11,
   "metadata": {
    "scrolled": true
   },
   "outputs": [
    {
     "data": {
      "text/plain": [
       "Text(0,0.5,'TRANSACTIONS')"
      ]
     },
     "execution_count": 11,
     "metadata": {},
     "output_type": "execute_result"
    },
    {
     "data": {
      "image/png": "[encoded data removed]",
      "text/plain": [
       "<matplotlib.figure.Figure at 0x28ba56911d0>"
      ]
     },
     "metadata": {},
     "output_type": "display_data"
    }
   ],
   "source": [
    "%matplotlib inline\n",
    "dt = df.loc[df['DATE_'].isin(['04/11/18'])]\n",
    "dt.groupby(['TIME_'])['TIME_'].count().plot(kind=\"bar\", title=\"number of transactions for hour\").set_ylabel(\"TRANSACTIONS\")"
   ]
  },
  {
   "cell_type": "code",
   "execution_count": 23,
   "metadata": {
    "scrolled": true
   },
   "outputs": [
    {
     "data": {
      "text/plain": [
       "<matplotlib.axes._subplots.AxesSubplot at 0x28ba84d36d8>"
      ]
     },
     "execution_count": 23,
     "metadata": {},
     "output_type": "execute_result"
    },
    {
     "data": {
      "image/png": "[encoded data removed]",
      "text/plain": [
       "<matplotlib.figure.Figure at 0x28ba84d33c8>"
      ]
     },
     "metadata": {},
     "output_type": "display_data"
    }
   ],
   "source": [
    "%matplotlib inline\n",
    "df.groupby(['TABLE_SPACE'])['TABLE_SPACE'].count().plot(kind=\"pie\", title=\"number of transactions for tablespace\")"
   ]
  },
  {
   "cell_type": "code",
   "execution_count": 13,
   "metadata": {},
   "outputs": [
    {
     "data": {
      "text/plain": [
       "<matplotlib.axes._subplots.AxesSubplot at 0x28ba57a2a20>"
      ]
     },
     "execution_count": 13,
     "metadata": {},
     "output_type": "execute_result"
    },
    {
     "data": {
      "image/png": "[encoded data removed]",
      "text/plain": [
       "<matplotlib.figure.Figure at 0x28ba4d419e8>"
      ]
     },
     "metadata": {},
     "output_type": "display_data"
    }
   ],
   "source": [
    "%matplotlib inline\n",
    "df.groupby(['TABLE_NAME'])['TABLE_NAME'].count().plot(kind=\"pie\", x=\"TABLE_NAME\")"
   ]
  },
  {
   "cell_type": "code",
   "execution_count": 14,
   "metadata": {
    "scrolled": true
   },
   "outputs": [
    {
     "data": {
      "text/plain": [
       "<matplotlib.axes._subplots.AxesSubplot at 0x28ba57def28>"
      ]
     },
     "execution_count": 14,
     "metadata": {},
     "output_type": "execute_result"
    },
    {
     "data": {
      "image/png": "[encoded data removed]",
      "text/plain": [
       "<matplotlib.figure.Figure at 0x28b9b5aeef0>"
      ]
     },
     "metadata": {},
     "output_type": "display_data"
    }
   ],
   "source": [
    "df.groupby(['USERNAME'])['USERNAME'].count().plot(kind=\"bar\", x=\"USERNAME\")"
   ]
  },
  {
   "cell_type": "code",
   "execution_count": 18,
   "metadata": {},
   "outputs": [
    {
     "data": {
      "text/plain": [
       "<matplotlib.axes._subplots.AxesSubplot at 0x28ba7050550>"
      ]
     },
     "execution_count": 18,
     "metadata": {},
     "output_type": "execute_result"
    },
    {
     "data": {
      "image/png": "[encoded data removed]",
      "text/plain": [
       "<matplotlib.figure.Figure at 0x28ba812cef0>"
      ]
     },
     "metadata": {},
     "output_type": "display_data"
    }
   ],
   "source": [
    "df.groupby(['OPERATION'])['OPERATION'].count().plot(kind=\"bar\", x=\"OPERATION\")"
   ]
  }
 ],
 "metadata": {
  "kernelspec": {
   "display_name": "Python 3",
   "language": "python",
   "name": "python3"
  },
  "language_info": {
   "codemirror_mode": {
    "name": "ipython",
    "version": 3
   },
   "file_extension": ".py",
   "mimetype": "text/x-python",
   "name": "python",
   "nbconvert_exporter": "python",
   "pygments_lexer": "ipython3",
   "version": "3.6.4"
  }
 },
 "nbformat": 4,
 "nbformat_minor": 2
}
